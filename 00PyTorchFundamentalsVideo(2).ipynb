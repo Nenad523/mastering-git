{
  "nbformat": 4,
  "nbformat_minor": 0,
  "metadata": {
    "colab": {
      "provenance": [],
      "gpuType": "T4",
      "authorship_tag": "ABX9TyOoDgUGIssMZljykV6ozXs0",
      "include_colab_link": true
    },
    "kernelspec": {
      "name": "python3",
      "display_name": "Python 3"
    },
    "language_info": {
      "name": "python"
    },
    "accelerator": "GPU"
  },
  "cells": [
    {
      "cell_type": "markdown",
      "metadata": {
        "id": "view-in-github",
        "colab_type": "text"
      },
      "source": [
        "<a href=\"https://colab.research.google.com/github/Nenad523/mastering-git/blob/main/00PyTorchFundamentalsVideo(2).ipynb\" target=\"_parent\"><img src=\"https://colab.research.google.com/assets/colab-badge.svg\" alt=\"Open In Colab\"/></a>"
      ]
    },
    {
      "cell_type": "markdown",
      "source": [
        "## Reshaping, stacking, squeezing and unsqueezing tensors\n",
        "* **Reshaping** - reshapes an input tensor to a defined shape.\n",
        "* **View** - Return a view of an input tensor of a certain shape but keep the same memory as the original tensor\n",
        "* **Stacking** - combine multiple tensors on top of each other (**vstack**) or side by side (**hstack**)\n",
        "* **Squeeze** - remove all `1` dimensions from a tensor\n",
        "* **Unsqueeze** - add a `1` dimension to a target tensor\n",
        "* **Permute** - Return a view of the input with dimensions permuted (swapped) in a certain way"
      ],
      "metadata": {
        "id": "yioqkWWJP0k9"
      }
    },
    {
      "cell_type": "code",
      "source": [
        "# Create a tensor\n",
        "import torch\n",
        "x = torch.arange(start = 1, end = 10)\n",
        "x, x.shape"
      ],
      "metadata": {
        "colab": {
          "base_uri": "https://localhost:8080/"
        },
        "id": "CTf6dnr3RIul",
        "outputId": "7f3e698e-cde0-438a-82f5-bf0f401be22e"
      },
      "execution_count": null,
      "outputs": [
        {
          "output_type": "execute_result",
          "data": {
            "text/plain": [
              "(tensor([1, 2, 3, 4, 5, 6, 7, 8, 9]), torch.Size([9]))"
            ]
          },
          "metadata": {},
          "execution_count": 2
        }
      ]
    },
    {
      "cell_type": "code",
      "source": [
        "# Add an extra dimension\n",
        "x_reshaped = x.reshape(1, 7)\n",
        "x_reshaped, x_reshaped.shape"
      ],
      "metadata": {
        "colab": {
          "base_uri": "https://localhost:8080/",
          "height": 213
        },
        "id": "Q1jz9ln8e6A-",
        "outputId": "03a9309e-e383-46b8-8eb1-760c16cf7991"
      },
      "execution_count": null,
      "outputs": [
        {
          "output_type": "error",
          "ename": "RuntimeError",
          "evalue": "shape '[1, 7]' is invalid for input of size 9",
          "traceback": [
            "\u001b[0;31m---------------------------------------------------------------------------\u001b[0m",
            "\u001b[0;31mRuntimeError\u001b[0m                              Traceback (most recent call last)",
            "\u001b[0;32m/tmp/ipython-input-1645377546.py\u001b[0m in \u001b[0;36m<cell line: 0>\u001b[0;34m()\u001b[0m\n\u001b[1;32m      1\u001b[0m \u001b[0;31m# Add an extra dimension\u001b[0m\u001b[0;34m\u001b[0m\u001b[0;34m\u001b[0m\u001b[0m\n\u001b[0;32m----> 2\u001b[0;31m \u001b[0mx_reshaped\u001b[0m \u001b[0;34m=\u001b[0m \u001b[0mx\u001b[0m\u001b[0;34m.\u001b[0m\u001b[0mreshape\u001b[0m\u001b[0;34m(\u001b[0m\u001b[0;36m1\u001b[0m\u001b[0;34m,\u001b[0m \u001b[0;36m7\u001b[0m\u001b[0;34m)\u001b[0m\u001b[0;34m\u001b[0m\u001b[0;34m\u001b[0m\u001b[0m\n\u001b[0m\u001b[1;32m      3\u001b[0m \u001b[0mx_reshaped\u001b[0m\u001b[0;34m,\u001b[0m \u001b[0mx_reshaped\u001b[0m\u001b[0;34m.\u001b[0m\u001b[0mshape\u001b[0m\u001b[0;34m\u001b[0m\u001b[0;34m\u001b[0m\u001b[0m\n",
            "\u001b[0;31mRuntimeError\u001b[0m: shape '[1, 7]' is invalid for input of size 9"
          ]
        }
      ]
    },
    {
      "cell_type": "markdown",
      "source": [
        "As we can see above, when reshaping, dimensions you pass as arg, have to allow to store exactly the amount of numbers the original tensor has."
      ],
      "metadata": {
        "id": "HJ--Z1DSfKrQ"
      }
    },
    {
      "cell_type": "code",
      "source": [
        "x_reshaped = x.reshape(1, 9)\n",
        "x_reshaped, x_reshaped.shape"
      ],
      "metadata": {
        "colab": {
          "base_uri": "https://localhost:8080/"
        },
        "id": "Dc4Obzl332WW",
        "outputId": "ba23144b-1c92-4ef7-c716-02f92bb84e96"
      },
      "execution_count": null,
      "outputs": [
        {
          "output_type": "execute_result",
          "data": {
            "text/plain": [
              "(tensor([[1, 2, 3, 4, 5, 6, 7, 8, 9]]), torch.Size([1, 9]))"
            ]
          },
          "metadata": {},
          "execution_count": 3
        }
      ]
    },
    {
      "cell_type": "code",
      "source": [
        "x_reshaped = x.reshape(9, 1)\n",
        "x_reshaped, x_reshaped.shape"
      ],
      "metadata": {
        "colab": {
          "base_uri": "https://localhost:8080/"
        },
        "id": "VO6JZSZZ37AW",
        "outputId": "257dbdaf-53d3-40b8-b4d5-e9efa947a499"
      },
      "execution_count": null,
      "outputs": [
        {
          "output_type": "execute_result",
          "data": {
            "text/plain": [
              "(tensor([[1],\n",
              "         [2],\n",
              "         [3],\n",
              "         [4],\n",
              "         [5],\n",
              "         [6],\n",
              "         [7],\n",
              "         [8],\n",
              "         [9]]),\n",
              " torch.Size([9, 1]))"
            ]
          },
          "metadata": {},
          "execution_count": 4
        }
      ]
    },
    {
      "cell_type": "code",
      "source": [
        "x_reshaped = x.reshape(1, 3, 3)\n",
        "x_reshaped, x_reshaped.shape"
      ],
      "metadata": {
        "colab": {
          "base_uri": "https://localhost:8080/"
        },
        "id": "dv5zO5Cr4XU_",
        "outputId": "d1556c77-f610-4769-84ef-de9f30e4c872"
      },
      "execution_count": null,
      "outputs": [
        {
          "output_type": "execute_result",
          "data": {
            "text/plain": [
              "(tensor([[[1, 2, 3],\n",
              "          [4, 5, 6],\n",
              "          [7, 8, 9]]]),\n",
              " torch.Size([1, 3, 3]))"
            ]
          },
          "metadata": {},
          "execution_count": 7
        }
      ]
    },
    {
      "cell_type": "code",
      "source": [
        "# Change the view\n",
        "z = x.view(1, 9)\n",
        "z, z.shape"
      ],
      "metadata": {
        "colab": {
          "base_uri": "https://localhost:8080/"
        },
        "id": "okQwphlo4l3M",
        "outputId": "505b9c86-903e-405a-9d37-7db399392128"
      },
      "execution_count": null,
      "outputs": [
        {
          "output_type": "execute_result",
          "data": {
            "text/plain": [
              "(tensor([[1, 2, 3, 4, 5, 6, 7, 8, 9]]), torch.Size([1, 9]))"
            ]
          },
          "metadata": {},
          "execution_count": 8
        }
      ]
    },
    {
      "cell_type": "code",
      "source": [
        "# Changing z changes x (because a view of a tensor shares the same memory as the original input)\n",
        "z[:, 0] = 5\n",
        "z, x"
      ],
      "metadata": {
        "colab": {
          "base_uri": "https://localhost:8080/"
        },
        "id": "1gD7MnxU5cPC",
        "outputId": "50f04cef-eb88-4cdd-9793-e4f7a9401bbd"
      },
      "execution_count": null,
      "outputs": [
        {
          "output_type": "execute_result",
          "data": {
            "text/plain": [
              "(tensor([[5, 2, 3, 4, 5, 6, 7, 8, 9]]), tensor([5, 2, 3, 4, 5, 6, 7, 8, 9]))"
            ]
          },
          "metadata": {},
          "execution_count": 9
        }
      ]
    },
    {
      "cell_type": "markdown",
      "source": [
        "### STACKING\n",
        "* Stack  -> https://docs.pytorch.org/docs/stable/generated/torch.stack.html\n",
        "* Hstack -> https://docs.pytorch.org/docs/stable/generated/torch.vstack.html\n",
        "* Vstack -> https://docs.pytorch.org/docs/stable/generated/torch.hstack.html"
      ],
      "metadata": {
        "id": "VcGEs2io6e0W"
      }
    },
    {
      "cell_type": "code",
      "source": [
        "# Stack tensors on top of each other\n",
        "x_stacked = torch.stack((x, x, x, x), dim=-2)\n",
        "x_stacked"
      ],
      "metadata": {
        "colab": {
          "base_uri": "https://localhost:8080/"
        },
        "id": "i5roMaeY5wVJ",
        "outputId": "12d36c16-17f9-4c45-aa2e-435f07cdedd6"
      },
      "execution_count": null,
      "outputs": [
        {
          "output_type": "execute_result",
          "data": {
            "text/plain": [
              "tensor([[5, 2, 3, 4, 5, 6, 7, 8, 9],\n",
              "        [5, 2, 3, 4, 5, 6, 7, 8, 9],\n",
              "        [5, 2, 3, 4, 5, 6, 7, 8, 9],\n",
              "        [5, 2, 3, 4, 5, 6, 7, 8, 9]])"
            ]
          },
          "metadata": {},
          "execution_count": 20
        }
      ]
    },
    {
      "cell_type": "markdown",
      "source": [
        "### Squeezing and unsqueezing\n",
        "* Squeezing -> https://docs.pytorch.org/docs/stable/generated/torch.squeeze.html\n",
        "* Unsqueezing -> https://docs.pytorch.org/docs/stable/generated/torch.unsqueeze.html"
      ],
      "metadata": {
        "id": "xz-MM1O1HgXB"
      }
    },
    {
      "cell_type": "code",
      "source": [
        "x1 = torch.rand(2, 1, 2)\n",
        "x1, x1.shape"
      ],
      "metadata": {
        "colab": {
          "base_uri": "https://localhost:8080/"
        },
        "id": "t5X_cIlQHivR",
        "outputId": "c546d05c-543a-42c7-8cdf-7635c78dcc71"
      },
      "execution_count": null,
      "outputs": [
        {
          "output_type": "execute_result",
          "data": {
            "text/plain": [
              "(tensor([[[0.7836, 0.3512]],\n",
              " \n",
              "         [[0.8985, 0.7132]]]),\n",
              " torch.Size([2, 1, 2]))"
            ]
          },
          "metadata": {},
          "execution_count": 22
        }
      ]
    },
    {
      "cell_type": "code",
      "source": [
        "x2 = x1.squeeze()\n",
        "x2, x2.shape"
      ],
      "metadata": {
        "colab": {
          "base_uri": "https://localhost:8080/"
        },
        "id": "wna-xtGHIWG9",
        "outputId": "9e3bc72c-abb1-4b8a-8e39-310890997dec"
      },
      "execution_count": null,
      "outputs": [
        {
          "output_type": "execute_result",
          "data": {
            "text/plain": [
              "(tensor([[0.7836, 0.3512],\n",
              "         [0.8985, 0.7132]]),\n",
              " torch.Size([2, 2]))"
            ]
          },
          "metadata": {},
          "execution_count": 23
        }
      ]
    },
    {
      "cell_type": "code",
      "source": [
        "x3 = torch.rand(2, 2)\n",
        "x3, x3.shape"
      ],
      "metadata": {
        "colab": {
          "base_uri": "https://localhost:8080/"
        },
        "id": "QcwbPRLlLZ3J",
        "outputId": "cb4d408c-6bd5-4efd-e3fe-76c6725eb774"
      },
      "execution_count": null,
      "outputs": [
        {
          "output_type": "execute_result",
          "data": {
            "text/plain": [
              "(tensor([[0.1441, 0.4755],\n",
              "         [0.9197, 0.5768]]),\n",
              " torch.Size([2, 2]))"
            ]
          },
          "metadata": {},
          "execution_count": 24
        }
      ]
    },
    {
      "cell_type": "code",
      "source": [
        "x3.unsqueeze(0), x3.unsqueeze(0).shape"
      ],
      "metadata": {
        "colab": {
          "base_uri": "https://localhost:8080/"
        },
        "id": "syhUcKmIN_9u",
        "outputId": "e52b0fcc-4449-43ff-f853-09e3f637d6e5"
      },
      "execution_count": null,
      "outputs": [
        {
          "output_type": "execute_result",
          "data": {
            "text/plain": [
              "(tensor([[[0.1441, 0.4755],\n",
              "          [0.9197, 0.5768]]]),\n",
              " torch.Size([1, 2, 2]))"
            ]
          },
          "metadata": {},
          "execution_count": 25
        }
      ]
    },
    {
      "cell_type": "code",
      "source": [
        "x3.unsqueeze(1), x3.unsqueeze(1).shape"
      ],
      "metadata": {
        "colab": {
          "base_uri": "https://localhost:8080/"
        },
        "id": "JwDMsWU4OE-N",
        "outputId": "b2c4e9e8-e961-4835-a6e7-6eacb523237d"
      },
      "execution_count": null,
      "outputs": [
        {
          "output_type": "execute_result",
          "data": {
            "text/plain": [
              "(tensor([[[0.1441, 0.4755]],\n",
              " \n",
              "         [[0.9197, 0.5768]]]),\n",
              " torch.Size([2, 1, 2]))"
            ]
          },
          "metadata": {},
          "execution_count": 27
        }
      ]
    },
    {
      "cell_type": "code",
      "source": [
        "x3.unsqueeze(2), x3.unsqueeze(2).shape"
      ],
      "metadata": {
        "colab": {
          "base_uri": "https://localhost:8080/"
        },
        "id": "krRer19oOMOF",
        "outputId": "cb2f282c-c539-4f2b-eeda-73b13555e5d4"
      },
      "execution_count": null,
      "outputs": [
        {
          "output_type": "execute_result",
          "data": {
            "text/plain": [
              "(tensor([[[0.1441],\n",
              "          [0.4755]],\n",
              " \n",
              "         [[0.9197],\n",
              "          [0.5768]]]),\n",
              " torch.Size([2, 2, 1]))"
            ]
          },
          "metadata": {},
          "execution_count": 29
        }
      ]
    },
    {
      "cell_type": "markdown",
      "source": [
        "## torch.permute - rearanges the dimensions of a target tensor in a specific order\n",
        "Link -> https://docs.pytorch.org/docs/stable/generated/torch.permute.html"
      ],
      "metadata": {
        "id": "fizl1BSlOQ_f"
      }
    },
    {
      "cell_type": "code",
      "source": [
        "x_original = torch.rand(size = (224, 224, 3))\n",
        "x_original, x_original.shape"
      ],
      "metadata": {
        "colab": {
          "base_uri": "https://localhost:8080/"
        },
        "id": "bIk1Q6LOV7fA",
        "outputId": "212ffe16-e04e-46de-9f33-c871c6cc5933"
      },
      "execution_count": null,
      "outputs": [
        {
          "output_type": "execute_result",
          "data": {
            "text/plain": [
              "(tensor([[[0.7674, 0.2296, 0.2538],\n",
              "          [0.0475, 0.3681, 0.1827],\n",
              "          [0.6833, 0.3070, 0.1848],\n",
              "          ...,\n",
              "          [0.4383, 0.5169, 0.3835],\n",
              "          [0.6968, 0.1275, 0.4118],\n",
              "          [0.6059, 0.7175, 0.8325]],\n",
              " \n",
              "         [[0.8136, 0.8269, 0.1562],\n",
              "          [0.1712, 0.4796, 0.9132],\n",
              "          [0.8983, 0.0971, 0.7463],\n",
              "          ...,\n",
              "          [0.5452, 0.2704, 0.8905],\n",
              "          [0.5356, 0.3927, 0.3244],\n",
              "          [0.6460, 0.9605, 0.3800]],\n",
              " \n",
              "         [[0.1576, 0.7944, 0.7929],\n",
              "          [0.6130, 0.8909, 0.0351],\n",
              "          [0.6740, 0.2513, 0.1051],\n",
              "          ...,\n",
              "          [0.8287, 0.6362, 0.9889],\n",
              "          [0.6031, 0.0898, 0.8631],\n",
              "          [0.3407, 0.4433, 0.9166]],\n",
              " \n",
              "         ...,\n",
              " \n",
              "         [[0.4683, 0.0155, 0.1968],\n",
              "          [0.2478, 0.8351, 0.1415],\n",
              "          [0.9371, 0.2809, 0.1139],\n",
              "          ...,\n",
              "          [0.2359, 0.5346, 0.2712],\n",
              "          [0.8493, 0.0885, 0.7959],\n",
              "          [0.8376, 0.1874, 0.9279]],\n",
              " \n",
              "         [[0.6141, 0.9708, 0.5606],\n",
              "          [0.5499, 0.5376, 0.3250],\n",
              "          [0.2304, 0.2574, 0.0280],\n",
              "          ...,\n",
              "          [0.7706, 0.2410, 0.6323],\n",
              "          [0.6299, 0.0526, 0.3962],\n",
              "          [0.5345, 0.4618, 0.4922]],\n",
              " \n",
              "         [[0.4978, 0.8265, 0.7332],\n",
              "          [0.6954, 0.0834, 0.1549],\n",
              "          [0.0108, 0.9935, 0.8315],\n",
              "          ...,\n",
              "          [0.0607, 0.3329, 0.5897],\n",
              "          [0.5789, 0.3393, 0.5924],\n",
              "          [0.0154, 0.7209, 0.0535]]]),\n",
              " torch.Size([224, 224, 3]))"
            ]
          },
          "metadata": {},
          "execution_count": 31
        }
      ]
    },
    {
      "cell_type": "code",
      "source": [
        "# Permute the original tensor to rearrange the axis (or dim) order\n",
        "x_permuted = torch.permute(x_original, (2, 0, 1))\n",
        "x_permuted, x_permuted.shape"
      ],
      "metadata": {
        "colab": {
          "base_uri": "https://localhost:8080/"
        },
        "id": "tgR_WLu4WxJ0",
        "outputId": "1be5836b-8797-45c3-e900-7d9ee766fe83"
      },
      "execution_count": null,
      "outputs": [
        {
          "output_type": "execute_result",
          "data": {
            "text/plain": [
              "(tensor([[[0.7674, 0.0475, 0.6833,  ..., 0.4383, 0.6968, 0.6059],\n",
              "          [0.8136, 0.1712, 0.8983,  ..., 0.5452, 0.5356, 0.6460],\n",
              "          [0.1576, 0.6130, 0.6740,  ..., 0.8287, 0.6031, 0.3407],\n",
              "          ...,\n",
              "          [0.4683, 0.2478, 0.9371,  ..., 0.2359, 0.8493, 0.8376],\n",
              "          [0.6141, 0.5499, 0.2304,  ..., 0.7706, 0.6299, 0.5345],\n",
              "          [0.4978, 0.6954, 0.0108,  ..., 0.0607, 0.5789, 0.0154]],\n",
              " \n",
              "         [[0.2296, 0.3681, 0.3070,  ..., 0.5169, 0.1275, 0.7175],\n",
              "          [0.8269, 0.4796, 0.0971,  ..., 0.2704, 0.3927, 0.9605],\n",
              "          [0.7944, 0.8909, 0.2513,  ..., 0.6362, 0.0898, 0.4433],\n",
              "          ...,\n",
              "          [0.0155, 0.8351, 0.2809,  ..., 0.5346, 0.0885, 0.1874],\n",
              "          [0.9708, 0.5376, 0.2574,  ..., 0.2410, 0.0526, 0.4618],\n",
              "          [0.8265, 0.0834, 0.9935,  ..., 0.3329, 0.3393, 0.7209]],\n",
              " \n",
              "         [[0.2538, 0.1827, 0.1848,  ..., 0.3835, 0.4118, 0.8325],\n",
              "          [0.1562, 0.9132, 0.7463,  ..., 0.8905, 0.3244, 0.3800],\n",
              "          [0.7929, 0.0351, 0.1051,  ..., 0.9889, 0.8631, 0.9166],\n",
              "          ...,\n",
              "          [0.1968, 0.1415, 0.1139,  ..., 0.2712, 0.7959, 0.9279],\n",
              "          [0.5606, 0.3250, 0.0280,  ..., 0.6323, 0.3962, 0.4922],\n",
              "          [0.7332, 0.1549, 0.8315,  ..., 0.5897, 0.5924, 0.0535]]]),\n",
              " torch.Size([3, 224, 224]))"
            ]
          },
          "metadata": {},
          "execution_count": 34
        }
      ]
    },
    {
      "cell_type": "markdown",
      "source": [
        "## Indexing (selecting data form tensors)\n",
        "\n",
        "Indexing with PyTorch is similar to indexing with NumPy."
      ],
      "metadata": {
        "id": "kldpvIzuW9Am"
      }
    },
    {
      "cell_type": "code",
      "source": [
        "# Create a tensor\n",
        "import torch\n",
        "\n",
        "x = torch.arange(1, 10).reshape(1, 3, 3)\n",
        "x, x.shape"
      ],
      "metadata": {
        "colab": {
          "base_uri": "https://localhost:8080/"
        },
        "id": "wKkJds3lY6E9",
        "outputId": "48d8858b-5c6e-4261-ba62-71ad1075ecc8"
      },
      "execution_count": null,
      "outputs": [
        {
          "output_type": "execute_result",
          "data": {
            "text/plain": [
              "(tensor([[[1, 2, 3],\n",
              "          [4, 5, 6],\n",
              "          [7, 8, 9]]]),\n",
              " torch.Size([1, 3, 3]))"
            ]
          },
          "metadata": {},
          "execution_count": 36
        }
      ]
    },
    {
      "cell_type": "code",
      "source": [
        "# Let's index on our new tensor\n",
        "x[0]"
      ],
      "metadata": {
        "colab": {
          "base_uri": "https://localhost:8080/"
        },
        "id": "62jEFeXNZE7P",
        "outputId": "63956750-6714-45df-d0e2-28119507f3c8"
      },
      "execution_count": null,
      "outputs": [
        {
          "output_type": "execute_result",
          "data": {
            "text/plain": [
              "tensor([[1, 2, 3],\n",
              "        [4, 5, 6],\n",
              "        [7, 8, 9]])"
            ]
          },
          "metadata": {},
          "execution_count": 37
        }
      ]
    },
    {
      "cell_type": "code",
      "source": [
        "# Let's index on the middle bracket (dim = 1)\n",
        "x[0][0]"
      ],
      "metadata": {
        "colab": {
          "base_uri": "https://localhost:8080/"
        },
        "id": "Qxti-bblu6eF",
        "outputId": "d7963680-e635-4027-928a-bfaeaa1f7022"
      },
      "execution_count": null,
      "outputs": [
        {
          "output_type": "execute_result",
          "data": {
            "text/plain": [
              "tensor([1, 2, 3])"
            ]
          },
          "metadata": {},
          "execution_count": 38
        }
      ]
    },
    {
      "cell_type": "code",
      "source": [
        "# Let's index on the most inner bracket (dim = 2)\n",
        "x[0][0][0]"
      ],
      "metadata": {
        "colab": {
          "base_uri": "https://localhost:8080/"
        },
        "id": "yVeSx7BIu-lX",
        "outputId": "c8fa3d6d-f891-42e4-895f-d40587a71651"
      },
      "execution_count": null,
      "outputs": [
        {
          "output_type": "execute_result",
          "data": {
            "text/plain": [
              "tensor(1)"
            ]
          },
          "metadata": {},
          "execution_count": 39
        }
      ]
    },
    {
      "cell_type": "code",
      "source": [
        "# Let's get number 9\n",
        "x[0][2][2]"
      ],
      "metadata": {
        "colab": {
          "base_uri": "https://localhost:8080/"
        },
        "id": "IklV8o4EvJnV",
        "outputId": "78f31a17-37b2-4b6c-f3e9-3b3a1b4d169e"
      },
      "execution_count": null,
      "outputs": [
        {
          "output_type": "execute_result",
          "data": {
            "text/plain": [
              "tensor(9)"
            ]
          },
          "metadata": {},
          "execution_count": 40
        }
      ]
    },
    {
      "cell_type": "code",
      "source": [
        "# You can also use \":\" to select \"all\" of a target dimension\n",
        "x[:, 0]"
      ],
      "metadata": {
        "colab": {
          "base_uri": "https://localhost:8080/"
        },
        "id": "pdWMU2RNv40g",
        "outputId": "dbb570ff-4af8-4eaa-cb42-12c5bc9f7cd9"
      },
      "execution_count": null,
      "outputs": [
        {
          "output_type": "execute_result",
          "data": {
            "text/plain": [
              "tensor([[1, 2, 3]])"
            ]
          },
          "metadata": {},
          "execution_count": 41
        }
      ]
    },
    {
      "cell_type": "code",
      "source": [
        "# Get all values of 0th and 1st dimension, but only index 1 of 2nd dimension\n",
        "x[:, :, 1]"
      ],
      "metadata": {
        "colab": {
          "base_uri": "https://localhost:8080/"
        },
        "id": "5lk-97_PwS8u",
        "outputId": "744c0728-4c84-420e-c22e-e1113d341148"
      },
      "execution_count": null,
      "outputs": [
        {
          "output_type": "execute_result",
          "data": {
            "text/plain": [
              "tensor([[2, 5, 8]])"
            ]
          },
          "metadata": {},
          "execution_count": 42
        }
      ]
    },
    {
      "cell_type": "code",
      "source": [
        "# Get all values of the 0 dimension, but onyl the 1 index value of 1st and 2nd dimension\n",
        "x[:, 1, 1]"
      ],
      "metadata": {
        "colab": {
          "base_uri": "https://localhost:8080/"
        },
        "id": "JESDNWzGwhg3",
        "outputId": "d774d1c2-e17a-4c30-be81-5f5fa5b17f66"
      },
      "execution_count": null,
      "outputs": [
        {
          "output_type": "execute_result",
          "data": {
            "text/plain": [
              "tensor([5])"
            ]
          },
          "metadata": {},
          "execution_count": 43
        }
      ]
    },
    {
      "cell_type": "code",
      "source": [
        "# Get index 0 of 0th and 1st dimension and all values from 2nd dim\n",
        "x[0, 0, :]"
      ],
      "metadata": {
        "colab": {
          "base_uri": "https://localhost:8080/"
        },
        "id": "XQ_ZJmuJw9M1",
        "outputId": "5bac590c-e9ce-45f2-8041-49e7d57d24e2"
      },
      "execution_count": null,
      "outputs": [
        {
          "output_type": "execute_result",
          "data": {
            "text/plain": [
              "tensor([1, 2, 3])"
            ]
          },
          "metadata": {},
          "execution_count": 44
        }
      ]
    },
    {
      "cell_type": "code",
      "source": [
        "# Index on x to return 9\n",
        "x[0][2][2]"
      ],
      "metadata": {
        "colab": {
          "base_uri": "https://localhost:8080/"
        },
        "id": "_Ligb4ThxUgl",
        "outputId": "b3a43aeb-328d-49ae-ab75-fba870bdeb83"
      },
      "execution_count": null,
      "outputs": [
        {
          "output_type": "execute_result",
          "data": {
            "text/plain": [
              "tensor(9)"
            ]
          },
          "metadata": {},
          "execution_count": 46
        }
      ]
    },
    {
      "cell_type": "code",
      "source": [
        "# Index on x to return 3, 6, 9\n",
        "x[:, :, 2]"
      ],
      "metadata": {
        "colab": {
          "base_uri": "https://localhost:8080/"
        },
        "id": "Oph7oI4Hxp1k",
        "outputId": "730bb992-4024-4395-9a2b-f2c9cf0b9fde"
      },
      "execution_count": null,
      "outputs": [
        {
          "output_type": "execute_result",
          "data": {
            "text/plain": [
              "tensor([[3, 6, 9]])"
            ]
          },
          "metadata": {},
          "execution_count": 47
        }
      ]
    },
    {
      "cell_type": "markdown",
      "source": [
        "## PyTorch tensors & NumPy\n",
        "\n",
        "NumPy is a popular scientific Python numerical computing library.\n",
        "\n",
        "And because of this, PyTorch has functionality to intercat with it.\n",
        "\n",
        "* Data in NumPy, want in PyTorch tensor -> `torch.from_numpy(ndarray)`\n",
        "* PyTorch tensor -> NumPy -> `torch.Tensor.numpy()`"
      ],
      "metadata": {
        "id": "0FOVSFePxxqo"
      }
    },
    {
      "cell_type": "code",
      "source": [
        "# NumPy array to tensor\n",
        "import torch\n",
        "import numpy as np\n",
        "\n",
        "array = np.arange(1.0, 8.0)\n",
        "tensor = torch.from_numpy(array) # warning: when converting from numpy -> pytorch, pytorch reflect numpy's default datatype of float64 unless specified otherwise\n",
        "\n",
        "array, tensor"
      ],
      "metadata": {
        "colab": {
          "base_uri": "https://localhost:8080/"
        },
        "id": "lQklVGalymIY",
        "outputId": "3252c0e5-f272-4551-f980-92f7f2825484"
      },
      "execution_count": null,
      "outputs": [
        {
          "output_type": "execute_result",
          "data": {
            "text/plain": [
              "(array([1., 2., 3., 4., 5., 6., 7.]),\n",
              " tensor([1., 2., 3., 4., 5., 6., 7.], dtype=torch.float64))"
            ]
          },
          "metadata": {},
          "execution_count": 51
        }
      ]
    },
    {
      "cell_type": "code",
      "source": [
        "array.dtype"
      ],
      "metadata": {
        "colab": {
          "base_uri": "https://localhost:8080/"
        },
        "id": "K0R3D9_vy6Bo",
        "outputId": "42f0bc88-291f-4278-a968-7d3eb28b7a11"
      },
      "execution_count": null,
      "outputs": [
        {
          "output_type": "execute_result",
          "data": {
            "text/plain": [
              "dtype('float64')"
            ]
          },
          "metadata": {},
          "execution_count": 52
        }
      ]
    },
    {
      "cell_type": "code",
      "source": [
        "# Change the value of array, what will happen to `tensor`?\n",
        "array = array + 1\n",
        "array, tensor"
      ],
      "metadata": {
        "colab": {
          "base_uri": "https://localhost:8080/"
        },
        "id": "KOsNZyyV3-bv",
        "outputId": "49c6e6be-c3b4-4f8a-e6f7-d7a81feeb7b2"
      },
      "execution_count": null,
      "outputs": [
        {
          "output_type": "execute_result",
          "data": {
            "text/plain": [
              "(array([ 2.,  3.,  4.,  5.,  6.,  7.,  8.,  9., 10.]),\n",
              " tensor([1., 2., 3., 4., 5., 6., 7., 8., 9.], dtype=torch.float64))"
            ]
          },
          "metadata": {},
          "execution_count": 57
        }
      ]
    },
    {
      "cell_type": "markdown",
      "source": [
        "As we can see they do not share the same memory allocation, only datatype"
      ],
      "metadata": {
        "id": "yiRYWR4o4avm"
      }
    },
    {
      "cell_type": "code",
      "source": [
        "# Tensor to numpy array\n",
        "tensor = torch.ones(7)\n",
        "numpy_tensor = tensor.numpy()\n",
        "numpy_tensor"
      ],
      "metadata": {
        "colab": {
          "base_uri": "https://localhost:8080/"
        },
        "id": "IzfBBoq94hIz",
        "outputId": "3a013c72-a304-4d2f-f7b9-53f3d3662576"
      },
      "execution_count": null,
      "outputs": [
        {
          "output_type": "execute_result",
          "data": {
            "text/plain": [
              "array([1., 1., 1., 1., 1., 1., 1.], dtype=float32)"
            ]
          },
          "metadata": {},
          "execution_count": 60
        }
      ]
    },
    {
      "cell_type": "markdown",
      "source": [
        "Same goes with memory and dtype as above."
      ],
      "metadata": {
        "id": "XSYQYsR44v0Z"
      }
    },
    {
      "cell_type": "markdown",
      "source": [
        "## Reproducibility (trying to take random out of random)\n",
        "\n",
        "In short, how NN learns:\n",
        "`starti with random numbers -> tensor operations -> update random number -> again..`\n",
        "\n",
        "To reduce the randomness in NN and PyTorch comes the concept of a **random seed**.\n",
        "\n",
        "Essentialy, what the random seed does is \"flavour\" the randomness.\n",
        "\n",
        "Link -> https://docs.pytorch.org/docs/stable/notes/randomness.html"
      ],
      "metadata": {
        "id": "xLtBejZc5HQa"
      }
    },
    {
      "cell_type": "code",
      "source": [
        "torch.rand(3, 3)"
      ],
      "metadata": {
        "colab": {
          "base_uri": "https://localhost:8080/"
        },
        "id": "eQyscVAf7xVL",
        "outputId": "4d23c2ab-055d-43f7-dd15-628b4dbf5989"
      },
      "execution_count": null,
      "outputs": [
        {
          "output_type": "execute_result",
          "data": {
            "text/plain": [
              "tensor([[0.8940, 0.4774, 0.5255],\n",
              "        [0.4994, 0.0097, 0.8235],\n",
              "        [0.4446, 0.1082, 0.2324]])"
            ]
          },
          "metadata": {},
          "execution_count": 64
        }
      ]
    },
    {
      "cell_type": "code",
      "source": [
        "import torch\n",
        "\n",
        "# Create two random tensors\n",
        "\n",
        "random_tensor_A = torch.rand(3, 4)\n",
        "random_tensor_B = torch.rand(3, 4)\n",
        "\n",
        "print(random_tensor_A)\n",
        "print(random_tensor_B)\n",
        "print(random_tensor_A == random_tensor_B)"
      ],
      "metadata": {
        "colab": {
          "base_uri": "https://localhost:8080/"
        },
        "id": "W91e_7tN78Qe",
        "outputId": "23340e64-e2cd-46bf-aae0-81fc80436542"
      },
      "execution_count": null,
      "outputs": [
        {
          "output_type": "stream",
          "name": "stdout",
          "text": [
            "tensor([[0.1446, 0.2389, 0.0314, 0.5309],\n",
            "        [0.6415, 0.3756, 0.5429, 0.9183],\n",
            "        [0.9374, 0.2666, 0.0917, 0.1723]])\n",
            "tensor([[0.5994, 0.5700, 0.6225, 0.2087],\n",
            "        [0.7980, 0.4255, 0.1088, 0.4106],\n",
            "        [0.5340, 0.5787, 0.4171, 0.3010]])\n",
            "tensor([[False, False, False, False],\n",
            "        [False, False, False, False],\n",
            "        [False, False, False, False]])\n"
          ]
        }
      ]
    },
    {
      "cell_type": "code",
      "source": [
        "# Let's make some random but reproducible rensors\n",
        "import torch\n",
        "\n",
        "# Set the random seed\n",
        "RANDOM_SEED = 42 # Different flavours to randomness\n",
        "torch.manual_seed(RANDOM_SEED)\n",
        "\n",
        "random_tensor_C = torch.rand(3, 4)\n",
        "\n",
        "torch.manual_seed(RANDOM_SEED)\n",
        "random_tensor_D = torch.rand(3, 4)\n",
        "\n",
        "print(random_tensor_C)\n",
        "print(random_tensor_D)\n",
        "print(random_tensor_C == random_tensor_D)"
      ],
      "metadata": {
        "colab": {
          "base_uri": "https://localhost:8080/"
        },
        "id": "cCwE_XOC8sAg",
        "outputId": "a3662fca-da76-443d-bb3a-3d460cd26d19"
      },
      "execution_count": null,
      "outputs": [
        {
          "output_type": "stream",
          "name": "stdout",
          "text": [
            "tensor([[0.8823, 0.9150, 0.3829, 0.9593],\n",
            "        [0.3904, 0.6009, 0.2566, 0.7936],\n",
            "        [0.9408, 0.1332, 0.9346, 0.5936]])\n",
            "tensor([[0.8823, 0.9150, 0.3829, 0.9593],\n",
            "        [0.3904, 0.6009, 0.2566, 0.7936],\n",
            "        [0.9408, 0.1332, 0.9346, 0.5936]])\n",
            "tensor([[True, True, True, True],\n",
            "        [True, True, True, True],\n",
            "        [True, True, True, True]])\n"
          ]
        }
      ]
    },
    {
      "cell_type": "markdown",
      "source": [
        "## Running tenors and PyTorch objects on the GPUs (and making faster computations)\n",
        "\n",
        "GPU = faster computation on numbers, thanks to CUDA + NVIDIA hardware + PyTorch working behind the scens"
      ],
      "metadata": {
        "id": "8OWL1fD69UzK"
      }
    },
    {
      "cell_type": "markdown",
      "source": [
        "from sre_constants import GROUPREF_UNI_IGNORE\n",
        "### 1. Getting a GPU\n",
        "\n",
        "1. Easiest - Use Google Colab for free GPU\n",
        "2. Use your own GPU - takes a little bit of setup and requires the investment of purchasing a GPU\n",
        "3. Use cloud computing - GCP, AWS, Azure, these services allow you to rent computers on a cloud and access ThreadedCompleter"
      ],
      "metadata": {
        "id": "FYiU6dCTJsAh"
      }
    },
    {
      "cell_type": "code",
      "source": [
        "!nvidia-smi"
      ],
      "metadata": {
        "colab": {
          "base_uri": "https://localhost:8080/"
        },
        "id": "qc7sAtA8Ka5I",
        "outputId": "2498d6aa-5332-45ff-f257-bca01a5782d7"
      },
      "execution_count": 1,
      "outputs": [
        {
          "output_type": "stream",
          "name": "stdout",
          "text": [
            "Wed Aug  6 16:16:45 2025       \n",
            "+-----------------------------------------------------------------------------------------+\n",
            "| NVIDIA-SMI 550.54.15              Driver Version: 550.54.15      CUDA Version: 12.4     |\n",
            "|-----------------------------------------+------------------------+----------------------+\n",
            "| GPU  Name                 Persistence-M | Bus-Id          Disp.A | Volatile Uncorr. ECC |\n",
            "| Fan  Temp   Perf          Pwr:Usage/Cap |           Memory-Usage | GPU-Util  Compute M. |\n",
            "|                                         |                        |               MIG M. |\n",
            "|=========================================+========================+======================|\n",
            "|   0  Tesla T4                       Off |   00000000:00:04.0 Off |                    0 |\n",
            "| N/A   51C    P8             10W /   70W |       0MiB /  15360MiB |      0%      Default |\n",
            "|                                         |                        |                  N/A |\n",
            "+-----------------------------------------+------------------------+----------------------+\n",
            "                                                                                         \n",
            "+-----------------------------------------------------------------------------------------+\n",
            "| Processes:                                                                              |\n",
            "|  GPU   GI   CI        PID   Type   Process name                              GPU Memory |\n",
            "|        ID   ID                                                               Usage      |\n",
            "|=========================================================================================|\n",
            "|  No running processes found                                                             |\n",
            "+-----------------------------------------------------------------------------------------+\n"
          ]
        }
      ]
    },
    {
      "cell_type": "markdown",
      "source": [
        "### 2. Check fro GPU access with PyTorch"
      ],
      "metadata": {
        "id": "cIyM8jg3K7XI"
      }
    },
    {
      "cell_type": "code",
      "source": [
        "# Check for GPU access with PyTorch\n",
        "import torch\n",
        "torch.cuda.is_available()"
      ],
      "metadata": {
        "colab": {
          "base_uri": "https://localhost:8080/"
        },
        "id": "zHT7cOsgLOGI",
        "outputId": "2fa7957c-57ae-4c44-f7d4-73d37c5e284e"
      },
      "execution_count": 3,
      "outputs": [
        {
          "output_type": "execute_result",
          "data": {
            "text/plain": [
              "True"
            ]
          },
          "metadata": {},
          "execution_count": 3
        }
      ]
    },
    {
      "cell_type": "code",
      "source": [
        "# Setup device agnostic code\n",
        "device = \"cuda\" if torch.cuda.is_available() else \"cpu\"\n",
        "device"
      ],
      "metadata": {
        "colab": {
          "base_uri": "https://localhost:8080/",
          "height": 35
        },
        "id": "pdj2jse8LbD1",
        "outputId": "cc769fd7-120b-492c-f3bd-25737b03acbc"
      },
      "execution_count": 4,
      "outputs": [
        {
          "output_type": "execute_result",
          "data": {
            "text/plain": [
              "'cuda'"
            ],
            "application/vnd.google.colaboratory.intrinsic+json": {
              "type": "string"
            }
          },
          "metadata": {},
          "execution_count": 4
        }
      ]
    },
    {
      "cell_type": "code",
      "source": [
        "# Count the number of GPU's\n",
        "torch.cuda.device_count()"
      ],
      "metadata": {
        "colab": {
          "base_uri": "https://localhost:8080/"
        },
        "id": "2g1y5YQ0Lui7",
        "outputId": "82b71ab4-19e7-48d7-ecd6-2d452631e31c"
      },
      "execution_count": 5,
      "outputs": [
        {
          "output_type": "execute_result",
          "data": {
            "text/plain": [
              "1"
            ]
          },
          "metadata": {},
          "execution_count": 5
        }
      ]
    },
    {
      "cell_type": "code",
      "source": [],
      "metadata": {
        "id": "L2FOxhOQL1kn"
      },
      "execution_count": null,
      "outputs": []
    }
  ]
}