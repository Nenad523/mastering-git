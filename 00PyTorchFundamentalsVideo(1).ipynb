{
  "nbformat": 4,
  "nbformat_minor": 0,
  "metadata": {
    "colab": {
      "provenance": [],
      "authorship_tag": "ABX9TyOwEd4jc7s0+A2+b75eHrBU",
      "include_colab_link": true
    },
    "kernelspec": {
      "name": "python3",
      "display_name": "Python 3"
    },
    "language_info": {
      "name": "python"
    }
  },
  "cells": [
    {
      "cell_type": "markdown",
      "metadata": {
        "id": "view-in-github",
        "colab_type": "text"
      },
      "source": [
        "<a href=\"https://colab.research.google.com/github/Nenad523/mastering-git/blob/main/00PyTorchFundamentalsVideo(1).ipynb\" target=\"_parent\"><img src=\"https://colab.research.google.com/assets/colab-badge.svg\" alt=\"Open In Colab\"/></a>"
      ]
    },
    {
      "cell_type": "markdown",
      "source": [
        "## 00. PyTorch Fundamentals\n",
        "\n",
        "Resource notebook : https://www.learnpytorch.io/00_pytorch_fundamentals/\n",
        "\n",
        "GitHub resource : https://github.com/mrdbourke/pytorch-deep-learning\n"
      ],
      "metadata": {
        "id": "9LAqpIYkawhk"
      }
    },
    {
      "cell_type": "markdown",
      "source": [
        "## Introduction to Tensors  \n",
        "\n",
        "### Creating tensors\n",
        "\n",
        "PyTorch tensors are created using `torch.Tensor()` = https://docs.pytorch.org/docs/stable/tensors.html"
      ],
      "metadata": {
        "id": "XAlYvXC3byqX"
      }
    },
    {
      "cell_type": "code",
      "source": [
        "import torch\n",
        "print(torch.__version__)"
      ],
      "metadata": {
        "colab": {
          "base_uri": "https://localhost:8080/"
        },
        "id": "912eiMTTbgUb",
        "outputId": "08726c15-dcfa-4a05-c7b7-33a5d6d29f84"
      },
      "execution_count": null,
      "outputs": [
        {
          "output_type": "stream",
          "name": "stdout",
          "text": [
            "2.6.0+cu124\n"
          ]
        }
      ]
    },
    {
      "cell_type": "code",
      "source": [
        "# Scalar\n",
        "scalar = torch.tensor(7)\n",
        "scalar"
      ],
      "metadata": {
        "colab": {
          "base_uri": "https://localhost:8080/"
        },
        "id": "-L2W6PqZqBQm",
        "outputId": "46ed55a9-8cd8-4628-c5ab-2445079b78ff"
      },
      "execution_count": null,
      "outputs": [
        {
          "output_type": "execute_result",
          "data": {
            "text/plain": [
              "tensor(7)"
            ]
          },
          "metadata": {},
          "execution_count": 66
        }
      ]
    },
    {
      "cell_type": "code",
      "source": [
        "scalar.ndim # Used to determine the rank of tensor (number of indexes used for vector component)"
      ],
      "metadata": {
        "colab": {
          "base_uri": "https://localhost:8080/"
        },
        "id": "ygSa8G2WqYsB",
        "outputId": "5b17b193-1903-4c7c-c653-eafbdce6c322"
      },
      "execution_count": null,
      "outputs": [
        {
          "output_type": "execute_result",
          "data": {
            "text/plain": [
              "0"
            ]
          },
          "metadata": {},
          "execution_count": 67
        }
      ]
    },
    {
      "cell_type": "code",
      "source": [
        "scalar.item() # Get tensor back as Python int"
      ],
      "metadata": {
        "colab": {
          "base_uri": "https://localhost:8080/"
        },
        "id": "511g2U3brBz4",
        "outputId": "865f8c73-d59f-42f2-f002-e3f3f575cdaf"
      },
      "execution_count": null,
      "outputs": [
        {
          "output_type": "execute_result",
          "data": {
            "text/plain": [
              "7"
            ]
          },
          "metadata": {},
          "execution_count": 68
        }
      ]
    },
    {
      "cell_type": "code",
      "source": [
        "# Vector\n",
        "vector = torch.tensor([7, 7])\n",
        "vector"
      ],
      "metadata": {
        "colab": {
          "base_uri": "https://localhost:8080/"
        },
        "id": "gtWKLB9lrbfX",
        "outputId": "67cadb7b-350b-4a47-fb66-f243b5adaf51"
      },
      "execution_count": null,
      "outputs": [
        {
          "output_type": "execute_result",
          "data": {
            "text/plain": [
              "tensor([7, 7])"
            ]
          },
          "metadata": {},
          "execution_count": 69
        }
      ]
    },
    {
      "cell_type": "code",
      "source": [
        "vector.ndim"
      ],
      "metadata": {
        "colab": {
          "base_uri": "https://localhost:8080/"
        },
        "id": "epuFEMNerjay",
        "outputId": "80cd2074-c6ff-49fa-9c05-3b269ae582d7"
      },
      "execution_count": null,
      "outputs": [
        {
          "output_type": "execute_result",
          "data": {
            "text/plain": [
              "1"
            ]
          },
          "metadata": {},
          "execution_count": 70
        }
      ]
    },
    {
      "cell_type": "code",
      "source": [
        "# Size of each dimension as a tuple\n",
        "vector.shape"
      ],
      "metadata": {
        "colab": {
          "base_uri": "https://localhost:8080/"
        },
        "id": "xKPHdWBirrP6",
        "outputId": "b53052b6-f7bf-44d5-b5de-083920fcc844"
      },
      "execution_count": null,
      "outputs": [
        {
          "output_type": "execute_result",
          "data": {
            "text/plain": [
              "torch.Size([2])"
            ]
          },
          "metadata": {},
          "execution_count": 71
        }
      ]
    },
    {
      "cell_type": "code",
      "source": [
        "# MATRIX\n",
        "MATRIX = torch.tensor([[7, 8],\n",
        "                       [9, 10]])"
      ],
      "metadata": {
        "id": "d38ggqKMrwXZ"
      },
      "execution_count": null,
      "outputs": []
    },
    {
      "cell_type": "code",
      "source": [
        "MATRIX"
      ],
      "metadata": {
        "colab": {
          "base_uri": "https://localhost:8080/"
        },
        "id": "iM6QA6N4sAVz",
        "outputId": "5880f786-5106-459b-f719-083f395ef2e3"
      },
      "execution_count": null,
      "outputs": [
        {
          "output_type": "execute_result",
          "data": {
            "text/plain": [
              "tensor([[ 7,  8],\n",
              "        [ 9, 10]])"
            ]
          },
          "metadata": {},
          "execution_count": 73
        }
      ]
    },
    {
      "cell_type": "code",
      "source": [
        "MATRIX.ndim"
      ],
      "metadata": {
        "colab": {
          "base_uri": "https://localhost:8080/"
        },
        "id": "QkxE2QHlsB22",
        "outputId": "f5403553-ca94-4ffd-a1f0-50c2be456e28"
      },
      "execution_count": null,
      "outputs": [
        {
          "output_type": "execute_result",
          "data": {
            "text/plain": [
              "2"
            ]
          },
          "metadata": {},
          "execution_count": 74
        }
      ]
    },
    {
      "cell_type": "code",
      "source": [
        "MATRIX[0]"
      ],
      "metadata": {
        "colab": {
          "base_uri": "https://localhost:8080/"
        },
        "id": "UtyXfw4gsEJ-",
        "outputId": "1d679734-b59c-4ba1-bede-185fa644da70"
      },
      "execution_count": null,
      "outputs": [
        {
          "output_type": "execute_result",
          "data": {
            "text/plain": [
              "tensor([7, 8])"
            ]
          },
          "metadata": {},
          "execution_count": 75
        }
      ]
    },
    {
      "cell_type": "code",
      "source": [
        "MATRIX.shape"
      ],
      "metadata": {
        "colab": {
          "base_uri": "https://localhost:8080/"
        },
        "id": "zrC4TR2AsNCa",
        "outputId": "b674e0b1-1953-4bcd-cb2e-8fc7b0b32594"
      },
      "execution_count": null,
      "outputs": [
        {
          "output_type": "execute_result",
          "data": {
            "text/plain": [
              "torch.Size([2, 2])"
            ]
          },
          "metadata": {},
          "execution_count": 76
        }
      ]
    },
    {
      "cell_type": "code",
      "source": [
        "# Tensor\n",
        "TENSOR = torch.tensor([[[1, 2, 3],\n",
        "                        [3, 4, 1],\n",
        "                        [2, 5, 4]]])\n",
        "\n",
        "TENSOR\n"
      ],
      "metadata": {
        "colab": {
          "base_uri": "https://localhost:8080/"
        },
        "id": "6vI-R4kWsQ3X",
        "outputId": "b417d8ea-f117-4eaa-da76-0a0795284c41"
      },
      "execution_count": null,
      "outputs": [
        {
          "output_type": "execute_result",
          "data": {
            "text/plain": [
              "tensor([[[1, 2, 3],\n",
              "         [3, 4, 1],\n",
              "         [2, 5, 4]]])"
            ]
          },
          "metadata": {},
          "execution_count": 77
        }
      ]
    },
    {
      "cell_type": "code",
      "source": [
        "TENSOR.ndim"
      ],
      "metadata": {
        "colab": {
          "base_uri": "https://localhost:8080/"
        },
        "id": "LSNoQo9VsVYV",
        "outputId": "8f047ef6-0c14-40eb-803d-35d82ffe335b"
      },
      "execution_count": null,
      "outputs": [
        {
          "output_type": "execute_result",
          "data": {
            "text/plain": [
              "3"
            ]
          },
          "metadata": {},
          "execution_count": 78
        }
      ]
    },
    {
      "cell_type": "code",
      "source": [
        "TENSOR.shape"
      ],
      "metadata": {
        "colab": {
          "base_uri": "https://localhost:8080/"
        },
        "id": "tKVncgM6srUX",
        "outputId": "405e2dac-6cc4-40d6-8205-1d45e8d1a3d7"
      },
      "execution_count": null,
      "outputs": [
        {
          "output_type": "execute_result",
          "data": {
            "text/plain": [
              "torch.Size([1, 3, 3])"
            ]
          },
          "metadata": {},
          "execution_count": 79
        }
      ]
    },
    {
      "cell_type": "code",
      "source": [
        " # PRACTICE\n",
        "\n",
        "t1 = torch.tensor([[1, 2],\n",
        "                   [1, 2, 3],\n",
        "                   [1, 2, 3, 4]])\n",
        "\n",
        "t1"
      ],
      "metadata": {
        "colab": {
          "base_uri": "https://localhost:8080/",
          "height": 211
        },
        "id": "pInRx8Yusyq3",
        "outputId": "25e06de9-9f3b-41d0-e10a-69c3ac824360"
      },
      "execution_count": null,
      "outputs": [
        {
          "output_type": "error",
          "ename": "ValueError",
          "evalue": "expected sequence of length 2 at dim 1 (got 3)",
          "traceback": [
            "\u001b[0;31m---------------------------------------------------------------------------\u001b[0m",
            "\u001b[0;31mValueError\u001b[0m                                Traceback (most recent call last)",
            "\u001b[0;32m/tmp/ipython-input-3710773957.py\u001b[0m in \u001b[0;36m<cell line: 0>\u001b[0;34m()\u001b[0m\n\u001b[1;32m      1\u001b[0m \u001b[0;31m# PRACTICE\u001b[0m\u001b[0;34m\u001b[0m\u001b[0;34m\u001b[0m\u001b[0m\n\u001b[1;32m      2\u001b[0m \u001b[0;34m\u001b[0m\u001b[0m\n\u001b[0;32m----> 3\u001b[0;31m t1 = torch.tensor([[1, 2], \n\u001b[0m\u001b[1;32m      4\u001b[0m                    \u001b[0;34m[\u001b[0m\u001b[0;36m1\u001b[0m\u001b[0;34m,\u001b[0m \u001b[0;36m2\u001b[0m\u001b[0;34m,\u001b[0m \u001b[0;36m3\u001b[0m\u001b[0;34m]\u001b[0m\u001b[0;34m,\u001b[0m\u001b[0;34m\u001b[0m\u001b[0;34m\u001b[0m\u001b[0m\n\u001b[1;32m      5\u001b[0m                    [1, 2, 3, 4]])\n",
            "\u001b[0;31mValueError\u001b[0m: expected sequence of length 2 at dim 1 (got 3)"
          ]
        }
      ]
    },
    {
      "cell_type": "markdown",
      "source": [
        "Error above suggest that in tensor, in every component within the same dimension you have to have same amount of elements."
      ],
      "metadata": {
        "id": "jCRQD6TewAdZ"
      }
    },
    {
      "cell_type": "code",
      "source": [
        "\n",
        "matrix1 = torch.tensor([[1, 2, 3],\n",
        "                        [1, 2, 3],\n",
        "                        [1, 2, 3]])\n",
        "\n",
        "matrix1.ndim"
      ],
      "metadata": {
        "id": "4ZUwjoPrvy45"
      },
      "execution_count": null,
      "outputs": []
    },
    {
      "cell_type": "code",
      "source": [
        "matrix1.shape"
      ],
      "metadata": {
        "id": "GfPOcQbN0WJG"
      },
      "execution_count": null,
      "outputs": []
    },
    {
      "cell_type": "code",
      "source": [
        "mat = torch.tensor([[[1, 2],\n",
        "                     [3, 4],\n",
        "                     [5, 6]]])\n",
        "\n",
        "mat.ndim"
      ],
      "metadata": {
        "id": "Hy3hn4AV0YFc"
      },
      "execution_count": null,
      "outputs": []
    },
    {
      "cell_type": "code",
      "source": [
        "mat.shape"
      ],
      "metadata": {
        "id": "C-HJCw-j00PR"
      },
      "execution_count": null,
      "outputs": []
    },
    {
      "cell_type": "code",
      "source": [
        "# END OF PRACTICE"
      ],
      "metadata": {
        "id": "vryOa3_S0-gg"
      },
      "execution_count": null,
      "outputs": []
    },
    {
      "cell_type": "markdown",
      "source": [
        "### Random tensors\n",
        "Why random tensors?\n",
        "\n",
        "Random tensors are important, because the way many neural networks learn is that they start with tensors full of random numbers and then adjust those random numbers to better represent the data.\n",
        "\n",
        "`Start with random numbers -> look at data -> update random numbers -> look at data -> update random numbers`\n",
        "\n",
        "Torch random tensors - https://docs.pytorch.org/docs/stable/generated/torch.rand.html"
      ],
      "metadata": {
        "id": "LMrceD4t1M-x"
      }
    },
    {
      "cell_type": "code",
      "source": [
        "# Create a random tensor of size (3, 4)\n",
        "\n",
        "random_tensor = torch.rand(3, 4) # torch.rand(size = (3, 4))\n",
        "random_tensor"
      ],
      "metadata": {
        "colab": {
          "base_uri": "https://localhost:8080/"
        },
        "id": "TmwmFb9p2pMu",
        "outputId": "548d9197-da8f-4efc-de4f-7fed7b8dca75"
      },
      "execution_count": null,
      "outputs": [
        {
          "output_type": "execute_result",
          "data": {
            "text/plain": [
              "tensor([[0.0452, 0.5010, 0.6713, 0.3324],\n",
              "        [0.3061, 0.6745, 0.2980, 0.4821],\n",
              "        [0.2205, 0.7017, 0.6743, 0.7679]])"
            ]
          },
          "metadata": {},
          "execution_count": 81
        }
      ]
    },
    {
      "cell_type": "code",
      "source": [
        "random_tensor.ndim"
      ],
      "metadata": {
        "colab": {
          "base_uri": "https://localhost:8080/"
        },
        "id": "A1BoDd7_36lp",
        "outputId": "338f8f45-029b-4e83-fdc5-49d149b2e2b3"
      },
      "execution_count": null,
      "outputs": [
        {
          "output_type": "execute_result",
          "data": {
            "text/plain": [
              "2"
            ]
          },
          "metadata": {},
          "execution_count": 82
        }
      ]
    },
    {
      "cell_type": "code",
      "source": [
        "# Create a random tensor with similar shape to an image tensor\n",
        "random_image_size_tensor = torch.rand(size = (224, 224, 3)) # height, width, colour channel (RGB)\n",
        "random_image_size_tensor.shape, random_image_size_tensor.ndim"
      ],
      "metadata": {
        "colab": {
          "base_uri": "https://localhost:8080/"
        },
        "id": "6x9BV5o536jN",
        "outputId": "136dd9ae-5dca-43f2-f017-9d0ee0bf198b"
      },
      "execution_count": null,
      "outputs": [
        {
          "output_type": "execute_result",
          "data": {
            "text/plain": [
              "(torch.Size([224, 224, 3]), 3)"
            ]
          },
          "metadata": {},
          "execution_count": 83
        }
      ]
    },
    {
      "cell_type": "code",
      "source": [
        "random_image_size_tensor.dtype # To check type of number in tensor"
      ],
      "metadata": {
        "colab": {
          "base_uri": "https://localhost:8080/"
        },
        "id": "51kYPSRv36Z7",
        "outputId": "5ba58cdd-7856-4c57-f924-eb9cd8d5b4c5"
      },
      "execution_count": null,
      "outputs": [
        {
          "output_type": "execute_result",
          "data": {
            "text/plain": [
              "torch.float32"
            ]
          },
          "metadata": {},
          "execution_count": 84
        }
      ]
    },
    {
      "cell_type": "code",
      "source": [
        "random_zero_tensor = torch.zeros(size = (3, 4)) # Create tensor of all zeros\n",
        "random_zero_tensor, random_zero_tensor.shape"
      ],
      "metadata": {
        "colab": {
          "base_uri": "https://localhost:8080/"
        },
        "id": "CI_cbT648Bf6",
        "outputId": "7603368d-e296-46a3-fb89-f4a9fb264529"
      },
      "execution_count": null,
      "outputs": [
        {
          "output_type": "execute_result",
          "data": {
            "text/plain": [
              "(tensor([[0., 0., 0., 0.],\n",
              "         [0., 0., 0., 0.],\n",
              "         [0., 0., 0., 0.]]),\n",
              " torch.Size([3, 4]))"
            ]
          },
          "metadata": {},
          "execution_count": 85
        }
      ]
    },
    {
      "cell_type": "code",
      "source": [
        "random_one_tensor = torch.ones(size = (3, 4)) # Create tensor of all ones\n",
        "random_one_tensor, random_one_tensor.shape"
      ],
      "metadata": {
        "colab": {
          "base_uri": "https://localhost:8080/"
        },
        "id": "JAAWHMqg8Ilh",
        "outputId": "592a0636-b83c-4855-c054-daa4826a912a"
      },
      "execution_count": null,
      "outputs": [
        {
          "output_type": "execute_result",
          "data": {
            "text/plain": [
              "(tensor([[1., 1., 1., 1.],\n",
              "         [1., 1., 1., 1.],\n",
              "         [1., 1., 1., 1.]]),\n",
              " torch.Size([3, 4]))"
            ]
          },
          "metadata": {},
          "execution_count": 86
        }
      ]
    },
    {
      "cell_type": "code",
      "source": [
        "# We can also multiple/add/divide/subtract tensors\n",
        "random_zero_tensor * random_one_tensor"
      ],
      "metadata": {
        "colab": {
          "base_uri": "https://localhost:8080/"
        },
        "id": "F9ts8zUv8Z2Y",
        "outputId": "5e4a3325-36ad-456f-ff72-038e8e5e7394"
      },
      "execution_count": null,
      "outputs": [
        {
          "output_type": "execute_result",
          "data": {
            "text/plain": [
              "tensor([[0., 0., 0., 0.],\n",
              "        [0., 0., 0., 0.],\n",
              "        [0., 0., 0., 0.]])"
            ]
          },
          "metadata": {},
          "execution_count": 87
        }
      ]
    },
    {
      "cell_type": "markdown",
      "source": [
        "### Creating a range of tensors and tensors-like\n",
        "\n",
        "Torch arange -> https://docs.pytorch.org/docs/stable/generated/torch.arange.html"
      ],
      "metadata": {
        "id": "C59E56RIDuYf"
      }
    },
    {
      "cell_type": "code",
      "source": [
        "# Use torch.(a)range()\n",
        "one_to_ten = torch.arange(start = 0, end = 11, step = 1)\n",
        "one_to_ten"
      ],
      "metadata": {
        "colab": {
          "base_uri": "https://localhost:8080/"
        },
        "id": "b3kdpVS5EoX-",
        "outputId": "d4b126fc-44f9-4821-8e59-ce61df908d56"
      },
      "execution_count": null,
      "outputs": [
        {
          "output_type": "execute_result",
          "data": {
            "text/plain": [
              "tensor([ 0,  1,  2,  3,  4,  5,  6,  7,  8,  9, 10])"
            ]
          },
          "metadata": {},
          "execution_count": 88
        }
      ]
    },
    {
      "cell_type": "code",
      "source": [
        "# If we want to create a tensor shape identical to one passed as argument,\n",
        "# we use this method, which duplicates that tensor, and fiils it with zeros.\n",
        "ten_zeros = torch.zeros_like(input = one_to_ten)\n",
        "ten_zeros"
      ],
      "metadata": {
        "colab": {
          "base_uri": "https://localhost:8080/"
        },
        "id": "stB-dkEsEoU1",
        "outputId": "529d9f87-3b71-4c80-9616-8673d2379e26"
      },
      "execution_count": null,
      "outputs": [
        {
          "output_type": "execute_result",
          "data": {
            "text/plain": [
              "tensor([0, 0, 0, 0, 0, 0, 0, 0, 0, 0, 0])"
            ]
          },
          "metadata": {},
          "execution_count": 92
        }
      ]
    },
    {
      "cell_type": "markdown",
      "source": [
        "### Tensor datatypes"
      ],
      "metadata": {
        "id": "YFxiyv5IF_uI"
      }
    },
    {
      "cell_type": "markdown",
      "source": [
        "Precision in computing, is a measure of detail in which the number is expressed.\n",
        "\n",
        "**Note**: Tensor datatypes is one of the 3 big errors you'll run into with PyTorch & deep learning:\n",
        "  1. Tensors not right datatypes\n",
        "  2. Tensors not right shape\n",
        "  3. Tensors not on the right device\n",
        "\n",
        "More -> https://en.wikipedia.org/wiki/Precision_(computer_science)"
      ],
      "metadata": {
        "id": "FINe7cshWu5o"
      }
    },
    {
      "cell_type": "code",
      "source": [
        "# Float 32 tensor\n",
        "float_32_tensor = torch.tensor([3.0, 6.0, 9.0],\n",
        "                                dtype = None, # Type of data/nums in tensor (None == torch.float32)\n",
        "                                device = None, # What device tensor is on(None == CPU, there is CUDA for GPU, etc)\n",
        "                                requires_grad = False) # If we want PyTorch to track gradient of tensor, more in future\n",
        "float_32_tensor.dtype"
      ],
      "metadata": {
        "colab": {
          "base_uri": "https://localhost:8080/"
        },
        "id": "C0JNWwwpV9mR",
        "outputId": "1abfbd4e-21d7-4d42-82c1-626f49824510"
      },
      "execution_count": null,
      "outputs": [
        {
          "output_type": "execute_result",
          "data": {
            "text/plain": [
              "torch.float32"
            ]
          },
          "metadata": {},
          "execution_count": 94
        }
      ]
    },
    {
      "cell_type": "markdown",
      "source": [
        "32-bit means that number is stored in 32 bits. The more bits it is represented in, the number is more precisely represented, but slower to computer.\n",
        "\n",
        "16-bit and lower are less precisely represented, but faster to compute.\n"
      ],
      "metadata": {
        "id": "QrfXvzCpWtzv"
      }
    },
    {
      "cell_type": "code",
      "source": [
        "float_16_tensor = float_32_tensor.type(torch.float16)\n",
        "float_16_tensor"
      ],
      "metadata": {
        "colab": {
          "base_uri": "https://localhost:8080/"
        },
        "id": "809fDOSMXixC",
        "outputId": "ad9ae424-deb7-435c-f725-1c4b9cb59163"
      },
      "execution_count": null,
      "outputs": [
        {
          "output_type": "execute_result",
          "data": {
            "text/plain": [
              "tensor([3., 6., 9.], dtype=torch.float16)"
            ]
          },
          "metadata": {},
          "execution_count": 96
        }
      ]
    },
    {
      "cell_type": "code",
      "source": [
        "float_32_tensor * float_16_tensor"
      ],
      "metadata": {
        "colab": {
          "base_uri": "https://localhost:8080/"
        },
        "id": "NmwHA1_SYuV_",
        "outputId": "9ba40a18-5c25-400c-b65b-a43e96e9f4b3"
      },
      "execution_count": null,
      "outputs": [
        {
          "output_type": "execute_result",
          "data": {
            "text/plain": [
              "tensor([ 9., 36., 81.])"
            ]
          },
          "metadata": {},
          "execution_count": 97
        }
      ]
    },
    {
      "cell_type": "markdown",
      "source": [
        "### Getting information from tensors\n",
        "\n",
        "  1.Tensors not right datatypes - to get datatype from a tensor, use `tensor.dtype`\n",
        "\n",
        "  2.Tensors not right shape - to get shape from a tensor, use `tensor.shape`\n",
        "\n",
        "  3.Tensors not on the right device - to get device from a tensor, use `tensor.device`\n"
      ],
      "metadata": {
        "id": "lDeKLzN4bK2R"
      }
    },
    {
      "cell_type": "code",
      "source": [
        "some_tensor = torch.rand(size = (3, 4))\n",
        "some_tensor"
      ],
      "metadata": {
        "colab": {
          "base_uri": "https://localhost:8080/"
        },
        "id": "QbUAMEtCcYFg",
        "outputId": "ddba59a0-07ed-4cdc-cb81-3c791987cb99"
      },
      "execution_count": null,
      "outputs": [
        {
          "output_type": "execute_result",
          "data": {
            "text/plain": [
              "tensor([[0.6777, 0.1217, 0.5704, 0.8531],\n",
              "        [0.6689, 0.4958, 0.1921, 0.7181],\n",
              "        [0.1670, 0.3555, 0.9586, 0.5113]])"
            ]
          },
          "metadata": {},
          "execution_count": 98
        }
      ]
    },
    {
      "cell_type": "code",
      "source": [
        "# Find out some detail about this tensor\n",
        "print(some_tensor)\n",
        "print(\"\\n\")\n",
        "print(f\"Data type of tensor: {some_tensor.dtype}\")\n",
        "print(f\"Shape of tensor : {some_tensor.shape}\")\n",
        "print(f\"Device on which tensor is on: {some_tensor.device}\")"
      ],
      "metadata": {
        "colab": {
          "base_uri": "https://localhost:8080/"
        },
        "id": "tKetdHEucoel",
        "outputId": "4aad49c6-701c-4481-b7d7-b0dd386caab4"
      },
      "execution_count": null,
      "outputs": [
        {
          "output_type": "stream",
          "name": "stdout",
          "text": [
            "tensor([[0.6777, 0.1217, 0.5704, 0.8531],\n",
            "        [0.6689, 0.4958, 0.1921, 0.7181],\n",
            "        [0.1670, 0.3555, 0.9586, 0.5113]])\n",
            "\n",
            "\n",
            "Data type of tensor: torch.float32\n",
            "Shape of tensor : torch.Size([3, 4])\n",
            "Device on which tensor is on: cpu\n"
          ]
        }
      ]
    }
  ]
}